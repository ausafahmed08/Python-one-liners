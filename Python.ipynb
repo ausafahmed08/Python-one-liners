{
  "nbformat": 4,
  "nbformat_minor": 0,
  "metadata": {
    "colab": {
      "name": "Python.ipynb",
      "provenance": [],
      "collapsed_sections": [],
      "authorship_tag": "ABX9TyO6PdK87e+czmcDCFLm6p4c",
      "include_colab_link": true
    },
    "kernelspec": {
      "name": "python3",
      "display_name": "Python 3"
    },
    "language_info": {
      "name": "python"
    }
  },
  "cells": [
    {
      "cell_type": "markdown",
      "metadata": {
        "id": "view-in-github",
        "colab_type": "text"
      },
      "source": [
        "<a href=\"https://colab.research.google.com/github/ausafahmed08/Python-one-liners/blob/main/Python.ipynb\" target=\"_parent\"><img src=\"https://colab.research.google.com/assets/colab-badge.svg\" alt=\"Open In Colab\"/></a>"
      ]
    },
    {
      "cell_type": "markdown",
      "metadata": {
        "id": "u25KweSXGisG"
      },
      "source": [
        "Anagram"
      ]
    },
    {
      "cell_type": "code",
      "metadata": {
        "colab": {
          "base_uri": "https://localhost:8080/"
        },
        "id": "4jTDdAqrE08q",
        "outputId": "4524b702-d82a-4aba-8417-2317c4e4e3b4"
      },
      "source": [
        "from collections import Counter\n",
        "s1 = 'below'\n",
        "s2 = 'elbow'\n",
        "print('anagram') if Counter(s1) == Counter(s2) else print('not an anagram')\n"
      ],
      "execution_count": null,
      "outputs": [
        {
          "output_type": "stream",
          "name": "stdout",
          "text": [
            "anagram\n"
          ]
        }
      ]
    },
    {
      "cell_type": "code",
      "metadata": {
        "colab": {
          "base_uri": "https://localhost:8080/"
        },
        "id": "TvjXfCpaGOJX",
        "outputId": "f0a0fa24-18c7-4862-e346-d27e5ad86ae6"
      },
      "source": [
        "s1 = 'below'\n",
        "s2 = 'ulbow'\n",
        "print('anagram') if Counter(s1) == Counter(s2) else print('not an anagram')\n"
      ],
      "execution_count": null,
      "outputs": [
        {
          "output_type": "stream",
          "name": "stdout",
          "text": [
            "not an anagram\n"
          ]
        }
      ]
    },
    {
      "cell_type": "markdown",
      "metadata": {
        "id": "Q4rM1WesGnfu"
      },
      "source": [
        "Binary to decimal"
      ]
    },
    {
      "cell_type": "code",
      "metadata": {
        "colab": {
          "base_uri": "https://localhost:8080/"
        },
        "id": "pJT3wXa6FBQu",
        "outputId": "f4c2615a-38a9-440d-bada-803f59191d69"
      },
      "source": [
        "decimal = int('1010', 2)\n",
        "print(decimal)"
      ],
      "execution_count": null,
      "outputs": [
        {
          "output_type": "stream",
          "name": "stdout",
          "text": [
            "10\n"
          ]
        }
      ]
    },
    {
      "cell_type": "markdown",
      "metadata": {
        "id": "ygheFHwEGpnm"
      },
      "source": [
        "Converting string to lower case -->> .lower() and .casefold()"
      ]
    },
    {
      "cell_type": "code",
      "metadata": {
        "colab": {
          "base_uri": "https://localhost:8080/"
        },
        "id": "EesgDKmKF0lO",
        "outputId": "25e282e8-e907-4220-87fa-43dd867a60f1"
      },
      "source": [
        "mystr = 'TUTORIALS Teacher'\n",
        "print(mystr.casefold())\n",
        "print('HELLO WORLD'.casefold())\n",
        "print('HELLO WORLD'.lower())"
      ],
      "execution_count": null,
      "outputs": [
        {
          "output_type": "stream",
          "name": "stdout",
          "text": [
            "tutorials teacher\n",
            "hello world\n",
            "hello world\n"
          ]
        }
      ]
    },
    {
      "cell_type": "code",
      "metadata": {
        "colab": {
          "base_uri": "https://localhost:8080/"
        },
        "id": "82GmqfJ6LuGX",
        "outputId": "02ce1747-0929-48b2-906e-1b17ec70d9bb"
      },
      "source": [
        "mystr1 = '1# HarBOR Side'\n",
        "print(mystr1.casefold())\n",
        "print(mystr1.lower())\n",
        "\n",
        "\n",
        "mystr2 = 'Python is a Programming Language'\n",
        "print(mystr2.casefold())\n",
        "print(mystr2.lower())"
      ],
      "execution_count": null,
      "outputs": [
        {
          "output_type": "stream",
          "name": "stdout",
          "text": [
            "1# harbor side\n",
            "1# harbor side\n",
            "python is a programming language\n",
            "python is a programming language\n"
          ]
        }
      ]
    },
    {
      "cell_type": "code",
      "metadata": {
        "colab": {
          "base_uri": "https://localhost:8080/"
        },
        "id": "7eY0phOCL4OO",
        "outputId": "4e97a663-e7d2-46c8-9280-42547d8f648c"
      },
      "source": [
        "mystr3 = 'außen'\n",
        "print(mystr3.casefold())\n",
        "\n",
        "mystr3 = 'außen'\n",
        "print(mystr3.lower())"
      ],
      "execution_count": null,
      "outputs": [
        {
          "output_type": "stream",
          "name": "stdout",
          "text": [
            "aussen\n",
            "außen\n"
          ]
        }
      ]
    },
    {
      "cell_type": "markdown",
      "metadata": {
        "id": "80nY0cALOhmQ"
      },
      "source": [
        " Converting string to upper case"
      ]
    },
    {
      "cell_type": "code",
      "metadata": {
        "colab": {
          "base_uri": "https://localhost:8080/",
          "height": 35
        },
        "id": "Dzk5Mjx8Ms9f",
        "outputId": "fb8357a0-a0d7-4d42-81b0-40b49b79bd83"
      },
      "source": [
        "\"hi my name is Allwin\".upper()"
      ],
      "execution_count": null,
      "outputs": [
        {
          "output_type": "execute_result",
          "data": {
            "application/vnd.google.colaboratory.intrinsic+json": {
              "type": "string"
            },
            "text/plain": [
              "'HI MY NAME IS ALLWIN'"
            ]
          },
          "metadata": {},
          "execution_count": 15
        }
      ]
    },
    {
      "cell_type": "markdown",
      "metadata": {
        "id": "DnCvtpZDOsD4"
      },
      "source": [
        "Converting string to byte"
      ]
    },
    {
      "cell_type": "code",
      "metadata": {
        "colab": {
          "base_uri": "https://localhost:8080/"
        },
        "id": "wJ86WznPOeNv",
        "outputId": "3eabbd3a-3dfe-4bca-c181-b342eb2c392a"
      },
      "source": [
        "\"convert string to bytes using encode method\".encode()"
      ],
      "execution_count": null,
      "outputs": [
        {
          "output_type": "execute_result",
          "data": {
            "text/plain": [
              "b'convert string to bytes using encode method'"
            ]
          },
          "metadata": {},
          "execution_count": 16
        }
      ]
    },
    {
      "cell_type": "code",
      "metadata": {
        "colab": {
          "base_uri": "https://localhost:8080/"
        },
        "id": "MULzuJTEOqtH",
        "outputId": "a1f1963a-b3b0-4b17-8cee-3800a158f828"
      },
      "source": [
        "my_str = \"hello world\"\n",
        "my_str_as_bytes = str.encode(my_str)\n",
        "my_str_as_bytes"
      ],
      "execution_count": null,
      "outputs": [
        {
          "output_type": "execute_result",
          "data": {
            "text/plain": [
              "b'hello world'"
            ]
          },
          "metadata": {},
          "execution_count": 18
        }
      ]
    },
    {
      "cell_type": "code",
      "metadata": {
        "colab": {
          "base_uri": "https://localhost:8080/"
        },
        "id": "O2Cyv_BLP4z3",
        "outputId": "f2fddd22-60eb-4d27-91bd-0cefd55e8fbf"
      },
      "source": [
        "type(my_str_as_bytes)"
      ],
      "execution_count": null,
      "outputs": [
        {
          "output_type": "execute_result",
          "data": {
            "text/plain": [
              "bytes"
            ]
          },
          "metadata": {},
          "execution_count": 19
        }
      ]
    },
    {
      "cell_type": "code",
      "metadata": {
        "colab": {
          "base_uri": "https://localhost:8080/"
        },
        "id": "XtxKtKvOQBPn",
        "outputId": "32231019-7879-4ce0-85e9-7f3c3cd2d239"
      },
      "source": [
        "my_decoded_str = my_str_as_bytes.decode()\n",
        "type(my_decoded_str)"
      ],
      "execution_count": null,
      "outputs": [
        {
          "output_type": "execute_result",
          "data": {
            "text/plain": [
              "str"
            ]
          },
          "metadata": {},
          "execution_count": 20
        }
      ]
    },
    {
      "cell_type": "markdown",
      "metadata": {
        "id": "IA08Z0ArbZ6m"
      },
      "source": [
        "Copy Files"
      ]
    },
    {
      "cell_type": "code",
      "metadata": {
        "id": "72iIFfT6bYsX"
      },
      "source": [
        "f= open(\"source.txt\",\"w+\")"
      ],
      "execution_count": null,
      "outputs": []
    },
    {
      "cell_type": "code",
      "metadata": {
        "id": "cXpkiIR8b9uW"
      },
      "source": [
        "for i in range(10):\n",
        "     f.write(\"This is line %d\\n\" % (i+1))"
      ],
      "execution_count": null,
      "outputs": []
    },
    {
      "cell_type": "code",
      "metadata": {
        "id": "DiqopFaPcKB3"
      },
      "source": [
        "f.close()"
      ],
      "execution_count": null,
      "outputs": []
    },
    {
      "cell_type": "code",
      "metadata": {
        "id": "Md-AKTmecR7f"
      },
      "source": [
        "f1= open(\"dest.txt\",\"w+\")"
      ],
      "execution_count": null,
      "outputs": []
    },
    {
      "cell_type": "code",
      "metadata": {
        "colab": {
          "base_uri": "https://localhost:8080/",
          "height": 35
        },
        "id": "L1pPW-Z8cWne",
        "outputId": "94378ed7-7758-4616-9998-f957f6ba24de"
      },
      "source": [
        "import shutil; \n",
        "shutil.copyfile('source.txt', 'dest.txt')"
      ],
      "execution_count": null,
      "outputs": [
        {
          "output_type": "execute_result",
          "data": {
            "application/vnd.google.colaboratory.intrinsic+json": {
              "type": "string"
            },
            "text/plain": [
              "'dest.txt'"
            ]
          },
          "metadata": {},
          "execution_count": 16
        }
      ]
    },
    {
      "cell_type": "markdown",
      "metadata": {
        "id": "ZJhU-V6CZULi"
      },
      "source": [
        "Sum of n consecutive numbers"
      ]
    },
    {
      "cell_type": "code",
      "metadata": {
        "colab": {
          "base_uri": "https://localhost:8080/"
        },
        "id": "M141SHwcQFyH",
        "outputId": "c141c97c-4260-4978-d34b-f80d8c103fd5"
      },
      "source": [
        "n = input(\"Enter Number to calculate sum: \")\n",
        "n = int(n)\n",
        "res = sum(range(0, n+1))\n",
        "print(\"SUM of first \", n, \"numbers is: \", res)"
      ],
      "execution_count": null,
      "outputs": [
        {
          "output_type": "stream",
          "name": "stdout",
          "text": [
            "Enter Number to calculate sum: 3\n",
            "SUM of first  3 numbers is:  6\n"
          ]
        }
      ]
    },
    {
      "cell_type": "code",
      "metadata": {
        "colab": {
          "base_uri": "https://localhost:8080/"
        },
        "id": "ECTtJI86WhM5",
        "outputId": "6bf4eb44-4912-4472-ee5d-cea13201fa86"
      },
      "source": [
        "n = input(\"Enter Number to calculate sum: \")\n",
        "n = int(n)\n",
        "sum_n = n*(n+1)//2\n",
        "print(\"SUM of first\", n , \"numbers is: \",sum_n)"
      ],
      "execution_count": null,
      "outputs": [
        {
          "output_type": "stream",
          "name": "stdout",
          "text": [
            "Enter Number to calculate sum: 3\n",
            "SUM of first 3 numbers is:  6\n"
          ]
        }
      ]
    },
    {
      "cell_type": "markdown",
      "metadata": {
        "id": "LFZA0gICdahU"
      },
      "source": [
        "Swap two values"
      ]
    },
    {
      "cell_type": "code",
      "metadata": {
        "colab": {
          "base_uri": "https://localhost:8080/"
        },
        "id": "DOg9FZ2katHB",
        "outputId": "7c415b7e-fea1-4153-cd94-b76b5ca62168"
      },
      "source": [
        "a = 10\n",
        "b = 50\n",
        "a, b = b, a\n",
        "print(\"Value of a:\", a)\n",
        "print(\"Value of b:\", b)"
      ],
      "execution_count": null,
      "outputs": [
        {
          "output_type": "stream",
          "name": "stdout",
          "text": [
            "Value of a: 50\n",
            "Value of b: 10\n"
          ]
        }
      ]
    },
    {
      "cell_type": "markdown",
      "metadata": {
        "id": "Z3yXTUK7nNpg"
      },
      "source": [
        "Fibonacci series"
      ]
    },
    {
      "cell_type": "code",
      "metadata": {
        "colab": {
          "base_uri": "https://localhost:8080/"
        },
        "id": "UwzbVrSGcZk5",
        "outputId": "deae24f7-9fd6-4207-e762-23ae7e22dbdf"
      },
      "source": [
        "fib = lambda n: n if n <= 1 else fib(n-1) + fib(n-2)\n",
        "fib(9)"
      ],
      "execution_count": null,
      "outputs": [
        {
          "output_type": "execute_result",
          "data": {
            "text/plain": [
              "34"
            ]
          },
          "metadata": {},
          "execution_count": 5
        }
      ]
    },
    {
      "cell_type": "markdown",
      "metadata": {
        "id": "A9Nv9SFYnCRA"
      },
      "source": [
        "Combine nested lists to a single list"
      ]
    },
    {
      "cell_type": "code",
      "metadata": {
        "colab": {
          "base_uri": "https://localhost:8080/"
        },
        "id": "JAPAJ5jAyegr",
        "outputId": "e841b131-9533-4d69-b4f0-88c4c8ea9319"
      },
      "source": [
        "L1=[[1,2],[3,4,5],[6,7,8,9]]\n",
        "flat=[]\n",
        "for i in L1:\n",
        "  for j in i:\n",
        "    flat.append(j)\n",
        "print (flat)"
      ],
      "execution_count": null,
      "outputs": [
        {
          "output_type": "stream",
          "name": "stdout",
          "text": [
            "[1, 2, 3, 4, 5, 6, 7, 8, 9]\n"
          ]
        }
      ]
    },
    {
      "cell_type": "code",
      "metadata": {
        "colab": {
          "base_uri": "https://localhost:8080/"
        },
        "id": "Ylo_xsrFdvu9",
        "outputId": "5e825ef1-1b9e-44dc-b56d-545ea8c6a3a4"
      },
      "source": [
        "main_list = [[1,2],[3,4,5],[6,7,8,9]]\n",
        "# for sublist in main_list:\n",
        "#   for item in sublist:\n",
        "#     print(item) \n",
        "[item for sublist in main_list for item in sublist]\n",
        "\n"
      ],
      "execution_count": null,
      "outputs": [
        {
          "output_type": "execute_result",
          "data": {
            "text/plain": [
              "[1, 2, 3, 4, 5, 6, 7, 8, 9]"
            ]
          },
          "metadata": {},
          "execution_count": 35
        }
      ]
    },
    {
      "cell_type": "markdown",
      "metadata": {
        "id": "LM-nUed9nHbn"
      },
      "source": [
        "Run an HTTP server"
      ]
    },
    {
      "cell_type": "code",
      "metadata": {
        "colab": {
          "base_uri": "https://localhost:8080/",
          "height": 130
        },
        "id": "h1gSGfqLjeSb",
        "outputId": "86976deb-9d08-4a0a-cce3-e13d369f7ebb"
      },
      "source": [
        "python -m http.server 8000"
      ],
      "execution_count": null,
      "outputs": [
        {
          "output_type": "error",
          "ename": "SyntaxError",
          "evalue": "ignored",
          "traceback": [
            "\u001b[0;36m  File \u001b[0;32m\"<ipython-input-36-67576644b2a6>\"\u001b[0;36m, line \u001b[0;32m1\u001b[0m\n\u001b[0;31m    python -m http.server 8000\u001b[0m\n\u001b[0m                 ^\u001b[0m\n\u001b[0;31mSyntaxError\u001b[0m\u001b[0;31m:\u001b[0m invalid syntax\n"
          ]
        }
      ]
    },
    {
      "cell_type": "markdown",
      "metadata": {
        "id": "3qEYHJv2qc_W"
      },
      "source": [
        "Reverse a list"
      ]
    },
    {
      "cell_type": "code",
      "metadata": {
        "colab": {
          "base_uri": "https://localhost:8080/"
        },
        "id": "wsTS0arOpWhN",
        "outputId": "d2ec0df4-8b1a-449c-c6ec-32ef4f7abf55"
      },
      "source": [
        "numbers = [1, 2, 3, 4, 5]\n",
        "numbers[::-1]"
      ],
      "execution_count": null,
      "outputs": [
        {
          "output_type": "execute_result",
          "data": {
            "text/plain": [
              "[5, 4, 3, 2, 1]"
            ]
          },
          "metadata": {},
          "execution_count": 59
        }
      ]
    },
    {
      "cell_type": "code",
      "metadata": {
        "colab": {
          "base_uri": "https://localhost:8080/",
          "height": 35
        },
        "id": "bnbNGDquo7-k",
        "outputId": "d5e47c5b-2656-4eb9-8d40-8a5b4e5b42af"
      },
      "source": [
        "s='abcd'\n",
        "s[::2]"
      ],
      "execution_count": null,
      "outputs": [
        {
          "output_type": "execute_result",
          "data": {
            "application/vnd.google.colaboratory.intrinsic+json": {
              "type": "string"
            },
            "text/plain": [
              "'ac'"
            ]
          },
          "metadata": {},
          "execution_count": 57
        }
      ]
    },
    {
      "cell_type": "code",
      "metadata": {
        "colab": {
          "base_uri": "https://localhost:8080/",
          "height": 35
        },
        "id": "AigUf7TgpDlz",
        "outputId": "6fc83f91-05ae-4a3f-de7d-cb111e866024"
      },
      "source": [
        "'abcd'[::-1]"
      ],
      "execution_count": null,
      "outputs": [
        {
          "output_type": "execute_result",
          "data": {
            "application/vnd.google.colaboratory.intrinsic+json": {
              "type": "string"
            },
            "text/plain": [
              "'dcba'"
            ]
          },
          "metadata": {},
          "execution_count": 55
        }
      ]
    },
    {
      "cell_type": "markdown",
      "metadata": {
        "id": "uMQi4YsusIK1"
      },
      "source": [
        "Factorial of a number"
      ]
    },
    {
      "cell_type": "code",
      "metadata": {
        "colab": {
          "base_uri": "https://localhost:8080/"
        },
        "id": "IZzLuor_pNuT",
        "outputId": "29b33114-c228-4d6e-f826-300f3dd0f94b"
      },
      "source": [
        "import math; fact_5 = math.factorial(5)\n",
        "fact_5"
      ],
      "execution_count": null,
      "outputs": [
        {
          "output_type": "execute_result",
          "data": {
            "text/plain": [
              "120"
            ]
          },
          "metadata": {},
          "execution_count": 61
        }
      ]
    },
    {
      "cell_type": "markdown",
      "metadata": {
        "id": "qGA0zkCXuuif"
      },
      "source": [
        " List comprehension using “for” and “if”"
      ]
    },
    {
      "cell_type": "code",
      "metadata": {
        "colab": {
          "base_uri": "https://localhost:8080/"
        },
        "id": "RPZ7-RS13s2S",
        "outputId": "8e614225-fe9c-426e-c0e2-812f179f637f"
      },
      "source": [
        "input_list = [1, 2, 3, 4, 4, 5, 6, 7, 7]\n",
        "output_list = []\n",
        "# Using loop for constructing output list\n",
        "for var in input_list:\n",
        "    if var % 2 == 0:\n",
        "        output_list.append(var)\n",
        "print(\"Output List using for loop:\", output_list)"
      ],
      "execution_count": null,
      "outputs": [
        {
          "output_type": "stream",
          "name": "stdout",
          "text": [
            "Output List using for loop: [2, 4, 4, 6]\n"
          ]
        }
      ]
    },
    {
      "cell_type": "code",
      "metadata": {
        "colab": {
          "base_uri": "https://localhost:8080/"
        },
        "id": "8_uXmTFN30RM",
        "outputId": "cf77ff96-6aa3-49c0-dd42-c4e7ee9ee539"
      },
      "source": [
        "input_list = [1, 2, 3, 4, 4, 5, 6, 7, 7]\n",
        "list_using_comp = [var for var in input_list if var % 2 == 0]\n",
        "print(\"Output List using list comprehensions:\", list_using_comp)"
      ],
      "execution_count": null,
      "outputs": [
        {
          "output_type": "stream",
          "name": "stdout",
          "text": [
            "Output List using list comprehensions: [2, 4, 4, 6]\n"
          ]
        }
      ]
    },
    {
      "cell_type": "code",
      "metadata": {
        "colab": {
          "base_uri": "https://localhost:8080/"
        },
        "id": "KokXGjj2r-rM",
        "outputId": "6dc7468f-f277-412c-ebc6-c91dde32b2d3"
      },
      "source": [
        "even_list = [number for number in [1, 2, 3, 4] if number % 2 == 0]\n",
        "even_list"
      ],
      "execution_count": null,
      "outputs": [
        {
          "output_type": "execute_result",
          "data": {
            "text/plain": [
              "[2, 4]"
            ]
          },
          "metadata": {},
          "execution_count": 63
        }
      ]
    },
    {
      "cell_type": "code",
      "metadata": {
        "colab": {
          "base_uri": "https://localhost:8080/"
        },
        "id": "7YM83NKTFUGD",
        "outputId": "f32da3ac-dace-49ee-d236-303b061f2541"
      },
      "source": [
        "List = [character for character in 'Hello 2 the World']\n",
        "print(List)"
      ],
      "execution_count": null,
      "outputs": [
        {
          "output_type": "stream",
          "name": "stdout",
          "text": [
            "['H', 'e', 'l', 'l', 'o', ' ', '2', ' ', 't', 'h', 'e', ' ', 'W', 'o', 'r', 'l', 'd']\n"
          ]
        }
      ]
    },
    {
      "cell_type": "markdown",
      "metadata": {
        "id": "ljTX8h-lDoja"
      },
      "source": [
        "Longest string from a list"
      ]
    },
    {
      "cell_type": "code",
      "metadata": {
        "colab": {
          "base_uri": "https://localhost:8080/",
          "height": 35
        },
        "id": "2_xPEsHWtHH-",
        "outputId": "12ac2419-4c73-49b2-a3aa-638c07000258"
      },
      "source": [
        "words = ['This', 'is', 'a', 'list', 'of', 'words']\n",
        "max(words, key=len)"
      ],
      "execution_count": null,
      "outputs": [
        {
          "output_type": "execute_result",
          "data": {
            "application/vnd.google.colaboratory.intrinsic+json": {
              "type": "string"
            },
            "text/plain": [
              "'words'"
            ]
          },
          "metadata": {},
          "execution_count": 64
        }
      ]
    },
    {
      "cell_type": "markdown",
      "metadata": {
        "id": "xprs8VVJF8nb"
      },
      "source": [
        "List comprehension"
      ]
    },
    {
      "cell_type": "code",
      "metadata": {
        "colab": {
          "base_uri": "https://localhost:8080/"
        },
        "id": "onfhyyjLDL6w",
        "outputId": "2b2a32ee-b3d6-4918-a646-fa3eeb27a9b8"
      },
      "source": [
        "# this will create a list of numbers from 0 to 19\n",
        "li = [num for num in range(0,20)]\n",
        "li"
      ],
      "execution_count": null,
      "outputs": [
        {
          "output_type": "execute_result",
          "data": {
            "text/plain": [
              "[0, 1, 2, 3, 4, 5, 6, 7, 8, 9, 10, 11, 12, 13, 14, 15, 16, 17, 18, 19]"
            ]
          },
          "metadata": {},
          "execution_count": 70
        }
      ]
    },
    {
      "cell_type": "markdown",
      "metadata": {
        "id": "tPEIHK6fd9iN"
      },
      "source": [
        "Set comprehension"
      ]
    },
    {
      "cell_type": "code",
      "metadata": {
        "colab": {
          "base_uri": "https://localhost:8080/"
        },
        "id": "Xqu9Znpvd8NG",
        "outputId": "373eea68-f832-478f-9e49-dc212eb411ea"
      },
      "source": [
        "input_list = [1, 2, 3, 4, 4, 5, 6, 6, 6, 7, 7]\n",
        "set_using_comp = {var for var in input_list if var % 2 == 0}\n",
        "print(\"Output Set using set comprehensions:\",\n",
        "                              set_using_comp)"
      ],
      "execution_count": null,
      "outputs": [
        {
          "output_type": "stream",
          "name": "stdout",
          "text": [
            "Output Set using set comprehensions: {2, 4, 6}\n"
          ]
        }
      ]
    },
    {
      "cell_type": "code",
      "metadata": {
        "id": "rnVH3UgIDlgP",
        "colab": {
          "base_uri": "https://localhost:8080/"
        },
        "outputId": "c137667b-19f1-4194-82e7-884ffabff768"
      },
      "source": [
        "num_set = { num for num in range(0,10)}\n",
        "num_set"
      ],
      "execution_count": null,
      "outputs": [
        {
          "output_type": "execute_result",
          "data": {
            "text/plain": [
              "{0, 1, 2, 3, 4, 5, 6, 7, 8, 9}"
            ]
          },
          "metadata": {},
          "execution_count": 32
        }
      ]
    },
    {
      "cell_type": "markdown",
      "metadata": {
        "id": "yjL-XCqhefxf"
      },
      "source": [
        "Dictionary comprehension"
      ]
    },
    {
      "cell_type": "code",
      "metadata": {
        "colab": {
          "base_uri": "https://localhost:8080/"
        },
        "id": "hFYJq7AoeL_S",
        "outputId": "f4c264c9-921d-4559-ea0d-cf4fd2867dfb"
      },
      "source": [
        "dict_numbers = {x:x*x for x in range(1,5) }\n",
        "dict_numbers"
      ],
      "execution_count": null,
      "outputs": [
        {
          "output_type": "execute_result",
          "data": {
            "text/plain": [
              "{1: 1, 2: 4, 3: 9, 4: 16}"
            ]
          },
          "metadata": {},
          "execution_count": 34
        }
      ]
    },
    {
      "cell_type": "code",
      "metadata": {
        "colab": {
          "base_uri": "https://localhost:8080/"
        },
        "id": "mZhW_wyBrJcH",
        "outputId": "927a135a-2242-46a9-f288-f51468967593"
      },
      "source": [
        "dict_numbers1 = {x:x for x in range(1,5) }\n",
        "dict_numbers1"
      ],
      "execution_count": null,
      "outputs": [
        {
          "output_type": "execute_result",
          "data": {
            "text/plain": [
              "{1: 1, 2: 2, 3: 3, 4: 4}"
            ]
          },
          "metadata": {},
          "execution_count": 41
        }
      ]
    },
    {
      "cell_type": "markdown",
      "metadata": {
        "id": "_pC0MRQafdH3"
      },
      "source": [
        "if-else"
      ]
    },
    {
      "cell_type": "code",
      "metadata": {
        "colab": {
          "base_uri": "https://localhost:8080/"
        },
        "id": "ynYfGOCqe6yi",
        "outputId": "b85c373a-ae25-4024-813d-3d37cba0d847"
      },
      "source": [
        "print(\"even\") if 4%2==0 else print(\"odd\")"
      ],
      "execution_count": null,
      "outputs": [
        {
          "output_type": "stream",
          "name": "stdout",
          "text": [
            "even\n"
          ]
        }
      ]
    },
    {
      "cell_type": "markdown",
      "metadata": {
        "id": "X8sca8iZ7HMG"
      },
      "source": [
        "Infinit while loop"
      ]
    },
    {
      "cell_type": "code",
      "metadata": {
        "id": "Fbug8nBy7GJc"
      },
      "source": [
        "while 1:0; break"
      ],
      "execution_count": null,
      "outputs": []
    },
    {
      "cell_type": "markdown",
      "metadata": {
        "id": "Jus6OH3mjUAe"
      },
      "source": [
        "Check the data type"
      ]
    },
    {
      "cell_type": "code",
      "metadata": {
        "colab": {
          "base_uri": "https://localhost:8080/"
        },
        "id": "H6Wf9a6BiF3l",
        "outputId": "6c4d9538-140e-47fb-dc15-eb3cbde40bdc"
      },
      "source": [
        "isinstance(2, int)\n",
        "isinstance(\"allwin\", str)\n",
        "isinstance([3,4,1997], list)"
      ],
      "execution_count": null,
      "outputs": [
        {
          "output_type": "execute_result",
          "data": {
            "text/plain": [
              "True"
            ]
          },
          "metadata": {},
          "execution_count": 1
        }
      ]
    },
    {
      "cell_type": "markdown",
      "metadata": {
        "id": "OoJXfiefjOiP"
      },
      "source": [
        "While loop"
      ]
    },
    {
      "cell_type": "code",
      "metadata": {
        "colab": {
          "base_uri": "https://localhost:8080/"
        },
        "id": "8Deo8P5LiWQM",
        "outputId": "8a6119ed-07f5-40a1-bc4b-73bfb673f8ac"
      },
      "source": [
        "a=5\n",
        "while a > 0: a = a - 1; print(a)"
      ],
      "execution_count": null,
      "outputs": [
        {
          "output_type": "stream",
          "name": "stdout",
          "text": [
            "4\n",
            "3\n",
            "2\n",
            "1\n",
            "0\n"
          ]
        }
      ]
    },
    {
      "cell_type": "markdown",
      "metadata": {
        "id": "gwhz-Eaijbj-"
      },
      "source": [
        "Write to a file using the print statement"
      ]
    },
    {
      "cell_type": "code",
      "metadata": {
        "id": "1ekbIxTVjE30"
      },
      "source": [
        "print(\"Hello, World!\", file=open('file.txt', 'w'))"
      ],
      "execution_count": null,
      "outputs": []
    },
    {
      "cell_type": "markdown",
      "metadata": {
        "id": "suIz_oR3l7hQ"
      },
      "source": [
        "Count the frequency of a character in a string"
      ]
    },
    {
      "cell_type": "code",
      "metadata": {
        "colab": {
          "base_uri": "https://localhost:8080/"
        },
        "id": "8ijZ0PdNlEbe",
        "outputId": "e603f1ed-2e4e-4bab-ccd1-387b353f9456"
      },
      "source": [
        "print(\"umbrella\".count('l'))"
      ],
      "execution_count": null,
      "outputs": [
        {
          "output_type": "stream",
          "name": "stdout",
          "text": [
            "2\n"
          ]
        }
      ]
    },
    {
      "cell_type": "code",
      "metadata": {
        "colab": {
          "base_uri": "https://localhost:8080/"
        },
        "id": "dGawxxydMa_s",
        "outputId": "4eb696b0-c593-4dc6-a16b-3b3b4eecb7b0"
      },
      "source": [
        "print(\"umbrella\".count('n'))"
      ],
      "execution_count": null,
      "outputs": [
        {
          "output_type": "stream",
          "name": "stdout",
          "text": [
            "0\n"
          ]
        }
      ]
    },
    {
      "cell_type": "markdown",
      "metadata": {
        "id": "lMgSZ1CIl-Jf"
      },
      "source": [
        "Merge two lists"
      ]
    },
    {
      "cell_type": "code",
      "metadata": {
        "colab": {
          "base_uri": "https://localhost:8080/"
        },
        "id": "3R_uJXjClzv9",
        "outputId": "a7c55bdd-9ff6-47d8-8d53-caf1525cef58"
      },
      "source": [
        "#contents of test_list4 will be added to the test_list3\n",
        "test_list3 = [1, 4, 5, 6, 5]\n",
        "test_list4 = [3, 5, 7, 2, 5]\n",
        "test_list3.extend(test_list4)\n",
        "print (\"Concatenated list using list.extend() : \"+ str(test_list3))"
      ],
      "execution_count": null,
      "outputs": [
        {
          "output_type": "stream",
          "name": "stdout",
          "text": [
            "Concatenated list using list.extend() : [1, 4, 5, 6, 5, 3, 5, 7, 2, 5]\n"
          ]
        }
      ]
    },
    {
      "cell_type": "markdown",
      "metadata": {
        "id": "Bz8DErmzqp9h"
      },
      "source": [
        "Merge two dictionaries"
      ]
    },
    {
      "cell_type": "code",
      "metadata": {
        "colab": {
          "base_uri": "https://localhost:8080/"
        },
        "id": "erTfemm7oa-F",
        "outputId": "e35a21e9-e4bc-419b-e49e-ae5ea9543763"
      },
      "source": [
        "#contents of dict2 will be added to the dict1\n",
        "dict1 = {'a': 10, 'b': 8}\n",
        "dict2 = {'d': 6, 'c': 4}\n",
        "dict2.update(dict1)\n",
        "dict2"
      ],
      "execution_count": null,
      "outputs": [
        {
          "output_type": "execute_result",
          "data": {
            "text/plain": [
              "{'a': 10, 'b': 8, 'c': 4, 'd': 6}"
            ]
          },
          "metadata": {},
          "execution_count": 3
        }
      ]
    },
    {
      "cell_type": "markdown",
      "metadata": {
        "id": "5XtXeWrnrBnQ"
      },
      "source": [
        " Merge two sets"
      ]
    },
    {
      "cell_type": "code",
      "metadata": {
        "colab": {
          "base_uri": "https://localhost:8080/"
        },
        "id": "Gjm-tUado7LZ",
        "outputId": "aa34192e-7110-449e-fd66-0bb5e820d19d"
      },
      "source": [
        "# contents of set2 will be copied to the set1\n",
        "set1 = {\"a\", \"b\" , \"c\"}\n",
        "set2 = {1, 2, 3}\n",
        "set1.update(set2)\n",
        "print(set1)"
      ],
      "execution_count": null,
      "outputs": [
        {
          "output_type": "stream",
          "name": "stdout",
          "text": [
            "{1, 2, 3, 'c', 'a', 'b'}\n"
          ]
        }
      ]
    },
    {
      "cell_type": "markdown",
      "metadata": {
        "id": "CUSsyccXuMyC"
      },
      "source": [
        "Timestamp"
      ]
    },
    {
      "cell_type": "code",
      "metadata": {
        "colab": {
          "base_uri": "https://localhost:8080/"
        },
        "id": "K480dchjqWum",
        "outputId": "8d88d061-23ab-4904-b890-925b96bf6af6"
      },
      "source": [
        "import time\n",
        "print(time.time())"
      ],
      "execution_count": null,
      "outputs": [
        {
          "output_type": "stream",
          "name": "stdout",
          "text": [
            "1637148875.9719532\n"
          ]
        }
      ]
    },
    {
      "cell_type": "markdown",
      "metadata": {
        "id": "YIDkhuT4hDQY"
      },
      "source": [
        "Most frequent element"
      ]
    },
    {
      "cell_type": "code",
      "metadata": {
        "id": "uEo5wC7orV98",
        "colab": {
          "base_uri": "https://localhost:8080/"
        },
        "outputId": "0aae396b-4241-421e-87e8-7edc8d121c43"
      },
      "source": [
        "numbers = [9, 4, 5, 4, 4, 5, 9, 5, 4]\n",
        "most_frequent_element = max(set(numbers), key=numbers.count)\n",
        "most_frequent_element"
      ],
      "execution_count": null,
      "outputs": [
        {
          "output_type": "execute_result",
          "data": {
            "text/plain": [
              "4"
            ]
          },
          "metadata": {},
          "execution_count": 3
        }
      ]
    },
    {
      "cell_type": "code",
      "metadata": {
        "colab": {
          "base_uri": "https://localhost:8080/"
        },
        "id": "i1Ch0_GcKeph",
        "outputId": "9e759831-1c1b-4763-de87-3569c0bd4656"
      },
      "source": [
        "from collections import Counter\n",
        "list7 = [1,2,3,4,1,2,6,7,3,8,1]\n",
        "cnt = Counter(list7)\n",
        "print(cnt)"
      ],
      "execution_count": null,
      "outputs": [
        {
          "output_type": "stream",
          "name": "stdout",
          "text": [
            "Counter({1: 3, 2: 2, 3: 2, 4: 1, 6: 1, 7: 1, 8: 1})\n"
          ]
        }
      ]
    },
    {
      "cell_type": "code",
      "metadata": {
        "colab": {
          "base_uri": "https://localhost:8080/"
        },
        "id": "BW5fsA7LK7-B",
        "outputId": "946d51ce-d092-4efd-8358-190e1a986b21"
      },
      "source": [
        "print(cnt.most_common())"
      ],
      "execution_count": null,
      "outputs": [
        {
          "output_type": "stream",
          "name": "stdout",
          "text": [
            "[(1, 3), (2, 2), (3, 2), (4, 1), (6, 1), (7, 1), (8, 1)]\n"
          ]
        }
      ]
    },
    {
      "cell_type": "code",
      "metadata": {
        "colab": {
          "base_uri": "https://localhost:8080/"
        },
        "id": "Yy2nAYPOe2c3",
        "outputId": "4557d77f-4dc5-4965-f4e6-adf510fa0cc6"
      },
      "source": [
        "from collections import Counter\n",
        "numbers1 = [9, 4, 5, 4, 4, 5, 9, 5, 4]\n",
        "print(Counter(numbers1).most_common())"
      ],
      "execution_count": null,
      "outputs": [
        {
          "output_type": "stream",
          "name": "stdout",
          "text": [
            "[(4, 4), (5, 3), (9, 2)]\n"
          ]
        }
      ]
    },
    {
      "cell_type": "code",
      "metadata": {
        "colab": {
          "base_uri": "https://localhost:8080/"
        },
        "id": "QmSKxxWFgxK_",
        "outputId": "f8435a22-d51a-473a-c3a7-33ba1598a7e4"
      },
      "source": [
        "from collections import Counter\n",
        "numbers1 = [9, 4, 5, 4, 4, 5, 9, 5, 4]\n",
        "print(Counter(numbers1).most_common()[0][0])"
      ],
      "execution_count": null,
      "outputs": [
        {
          "output_type": "stream",
          "name": "stdout",
          "text": [
            "4\n"
          ]
        }
      ]
    },
    {
      "cell_type": "markdown",
      "metadata": {
        "id": "Btqvw-NqhZPp"
      },
      "source": [
        "Nested list comprehension"
      ]
    },
    {
      "cell_type": "code",
      "metadata": {
        "colab": {
          "base_uri": "https://localhost:8080/"
        },
        "id": "_L9IWAVYg9nG",
        "outputId": "a71c37c0-cb5b-4464-94df-41449033790b"
      },
      "source": [
        "num1 = [[num] for num in range(10)]\n",
        "num1"
      ],
      "execution_count": null,
      "outputs": [
        {
          "output_type": "execute_result",
          "data": {
            "text/plain": [
              "[[0], [1], [2], [3], [4], [5], [6], [7], [8], [9]]"
            ]
          },
          "metadata": {},
          "execution_count": 16
        }
      ]
    },
    {
      "cell_type": "markdown",
      "metadata": {
        "id": "zVrwDk9oj2EZ"
      },
      "source": [
        "Octal to decimal"
      ]
    },
    {
      "cell_type": "code",
      "metadata": {
        "colab": {
          "base_uri": "https://localhost:8080/"
        },
        "id": "BiBMjJnJhOyO",
        "outputId": "c0e16577-4e61-4047-cee6-0c09f33a46ae"
      },
      "source": [
        "print(int('30', 8))"
      ],
      "execution_count": null,
      "outputs": [
        {
          "output_type": "stream",
          "name": "stdout",
          "text": [
            "24\n"
          ]
        }
      ]
    },
    {
      "cell_type": "markdown",
      "metadata": {
        "id": "MWe-L-9Co_RS"
      },
      "source": [
        "Convert key-value pair to dictionary"
      ]
    },
    {
      "cell_type": "code",
      "metadata": {
        "colab": {
          "base_uri": "https://localhost:8080/"
        },
        "id": "3Rbsxh5do5m4",
        "outputId": "ab4bf6ca-f9fd-4634-dec5-42b2994a1af9"
      },
      "source": [
        "dict(name='allwin', age=23)"
      ],
      "execution_count": null,
      "outputs": [
        {
          "output_type": "execute_result",
          "data": {
            "text/plain": [
              "{'age': 23, 'name': 'allwin'}"
            ]
          },
          "metadata": {},
          "execution_count": 13
        }
      ]
    },
    {
      "cell_type": "code",
      "metadata": {
        "colab": {
          "base_uri": "https://localhost:8080/"
        },
        "id": "4QAajadfp05q",
        "outputId": "65e93489-f5e4-4a8d-f555-10297ca6ccee"
      },
      "source": [
        "numbers = dict(x=5, y=0, z=7)\n",
        "print('numbers =', numbers)\n",
        "print(type(numbers))\n",
        "empty = dict()\n",
        "print('empty =', empty)\n",
        "print(type(empty))"
      ],
      "execution_count": null,
      "outputs": [
        {
          "output_type": "stream",
          "name": "stdout",
          "text": [
            "numbers = {'x': 5, 'y': 0, 'z': 7}\n",
            "<class 'dict'>\n",
            "empty = {}\n",
            "<class 'dict'>\n"
          ]
        }
      ]
    },
    {
      "cell_type": "code",
      "metadata": {
        "colab": {
          "base_uri": "https://localhost:8080/"
        },
        "id": "47Sl_cNnX3TW",
        "outputId": "28ec772c-a034-496b-9cca-274f1913ac4a"
      },
      "source": [
        "dict(x=5, y=0, z=7)"
      ],
      "execution_count": null,
      "outputs": [
        {
          "output_type": "execute_result",
          "data": {
            "text/plain": [
              "{'x': 5, 'y': 0, 'z': 7}"
            ]
          },
          "metadata": {},
          "execution_count": 8
        }
      ]
    },
    {
      "cell_type": "markdown",
      "metadata": {
        "id": "ggySBLZbrctj"
      },
      "source": [
        "Get quotient and remainder"
      ]
    },
    {
      "cell_type": "code",
      "metadata": {
        "colab": {
          "base_uri": "https://localhost:8080/"
        },
        "id": "gLMylVnUpKXW",
        "outputId": "0e9ac66c-b52a-407c-be75-d2c4cab2ea5c"
      },
      "source": [
        "quotient, remainder = divmod(10,3)\n",
        "print(quotient, remainder)"
      ],
      "execution_count": null,
      "outputs": [
        {
          "output_type": "stream",
          "name": "stdout",
          "text": [
            "3 1\n"
          ]
        }
      ]
    },
    {
      "cell_type": "markdown",
      "metadata": {
        "id": "Brn76ZpEr0uq"
      },
      "source": [
        "Remove duplicate elements from a list"
      ]
    },
    {
      "cell_type": "code",
      "metadata": {
        "colab": {
          "base_uri": "https://localhost:8080/"
        },
        "id": "4Ei9lVBmrJy5",
        "outputId": "1f97efde-38ca-45d5-a52c-5b892b8f1fba"
      },
      "source": [
        "list(set([4, 4, 5, 5, 6]))"
      ],
      "execution_count": null,
      "outputs": [
        {
          "output_type": "execute_result",
          "data": {
            "text/plain": [
              "[4, 5, 6]"
            ]
          },
          "metadata": {},
          "execution_count": 19
        }
      ]
    },
    {
      "cell_type": "markdown",
      "metadata": {
        "id": "gwNunPWRsIra"
      },
      "source": [
        " Sort list in ascending order"
      ]
    },
    {
      "cell_type": "code",
      "metadata": {
        "colab": {
          "base_uri": "https://localhost:8080/"
        },
        "id": "LOe-l97Prwco",
        "outputId": "a4b45b3f-e12e-43cd-f834-65c2e1c8b10f"
      },
      "source": [
        "#doesn't change the list & return sorted list\n",
        "sorted([5, 2, 9, 1])"
      ],
      "execution_count": null,
      "outputs": [
        {
          "output_type": "execute_result",
          "data": {
            "text/plain": [
              "[1, 2, 5, 9]"
            ]
          },
          "metadata": {},
          "execution_count": 9
        }
      ]
    },
    {
      "cell_type": "code",
      "metadata": {
        "colab": {
          "base_uri": "https://localhost:8080/"
        },
        "id": "CNdu8Ut-s02Y",
        "outputId": "2d5ce479-c037-4ae3-90c9-1c775469bd62"
      },
      "source": [
        "#it changes the list directly & doesn't return any value\n",
        "list1 = [5, 2, 9, 1]\n",
        "list1.sort()\n",
        "list1"
      ],
      "execution_count": null,
      "outputs": [
        {
          "output_type": "execute_result",
          "data": {
            "text/plain": [
              "[1, 2, 5, 9]"
            ]
          },
          "metadata": {},
          "execution_count": 10
        }
      ]
    },
    {
      "cell_type": "markdown",
      "metadata": {
        "id": "1xFEPnzAtm2L"
      },
      "source": [
        " Sort list in descending order"
      ]
    },
    {
      "cell_type": "code",
      "metadata": {
        "colab": {
          "base_uri": "https://localhost:8080/"
        },
        "id": "JNFTXWdNs484",
        "outputId": "ca25f558-3ce0-4990-9324-e84c548ee033"
      },
      "source": [
        "sorted([5, 2, 9, 1], reverse=True)"
      ],
      "execution_count": null,
      "outputs": [
        {
          "output_type": "execute_result",
          "data": {
            "text/plain": [
              "[9, 5, 2, 1]"
            ]
          },
          "metadata": {},
          "execution_count": 27
        }
      ]
    },
    {
      "cell_type": "code",
      "metadata": {
        "colab": {
          "base_uri": "https://localhost:8080/"
        },
        "id": "TRZLgEHgtz1J",
        "outputId": "78873b9e-0f6e-48c1-aead-2e0150a7944a"
      },
      "source": [
        "list2 = [5, 2, 9, 1]\n",
        "list2.sort(reverse=True)\n",
        "list2"
      ],
      "execution_count": null,
      "outputs": [
        {
          "output_type": "execute_result",
          "data": {
            "text/plain": [
              "[9, 5, 2, 1]"
            ]
          },
          "metadata": {},
          "execution_count": 28
        }
      ]
    },
    {
      "cell_type": "markdown",
      "metadata": {
        "id": "kzSFc5zTuFhj"
      },
      "source": [
        "Get a string of lower-case alphabets"
      ]
    },
    {
      "cell_type": "code",
      "metadata": {
        "colab": {
          "base_uri": "https://localhost:8080/"
        },
        "id": "xODeTy3Mt9hY",
        "outputId": "35de4adf-069d-4bbf-bdfe-293fc4c3f5e8"
      },
      "source": [
        "import string\n",
        "print(string.ascii_lowercase)"
      ],
      "execution_count": null,
      "outputs": [
        {
          "output_type": "stream",
          "name": "stdout",
          "text": [
            "abcdefghijklmnopqrstuvwxyz\n"
          ]
        }
      ]
    },
    {
      "cell_type": "markdown",
      "metadata": {
        "id": "3FjI2dyQxIFz"
      },
      "source": [
        "Get a string of upper case alphabets"
      ]
    },
    {
      "cell_type": "code",
      "metadata": {
        "colab": {
          "base_uri": "https://localhost:8080/"
        },
        "id": "gONdLBnRxCNc",
        "outputId": "22177ce4-40a8-4bd9-dd9c-13b596817fa9"
      },
      "source": [
        "import string\n",
        "print(string.ascii_uppercase)"
      ],
      "execution_count": null,
      "outputs": [
        {
          "output_type": "stream",
          "name": "stdout",
          "text": [
            "ABCDEFGHIJKLMNOPQRSTUVWXYZ\n"
          ]
        }
      ]
    },
    {
      "cell_type": "markdown",
      "metadata": {
        "id": "EnCCa_yfxgKi"
      },
      "source": [
        "Get a string of digits from 0 to 9"
      ]
    },
    {
      "cell_type": "code",
      "metadata": {
        "colab": {
          "base_uri": "https://localhost:8080/"
        },
        "id": "JM4MEgNywwhZ",
        "outputId": "4ee20223-3bfc-4afc-b582-5972db46b4e2"
      },
      "source": [
        "import string\n",
        "print(string.digits)"
      ],
      "execution_count": null,
      "outputs": [
        {
          "output_type": "stream",
          "name": "stdout",
          "text": [
            "0123456789\n"
          ]
        }
      ]
    },
    {
      "cell_type": "markdown",
      "metadata": {
        "id": "fWo7GeLoyyHM"
      },
      "source": [
        "Hexadecimal to decimal:"
      ]
    },
    {
      "cell_type": "code",
      "metadata": {
        "colab": {
          "base_uri": "https://localhost:8080/"
        },
        "id": "lp8DIDAAw3Tw",
        "outputId": "5cb0496f-82a0-4c66-d8e8-329fdaf18308"
      },
      "source": [
        "print(int('da9', 16))"
      ],
      "execution_count": null,
      "outputs": [
        {
          "output_type": "stream",
          "name": "stdout",
          "text": [
            "3497\n"
          ]
        }
      ]
    },
    {
      "cell_type": "markdown",
      "metadata": {
        "id": "kqpfOPcjzYH0"
      },
      "source": [
        "Human readable DateTime"
      ]
    },
    {
      "cell_type": "code",
      "metadata": {
        "colab": {
          "base_uri": "https://localhost:8080/"
        },
        "id": "FuV1vprFzGQ6",
        "outputId": "15787a43-32d1-46fc-be41-281d945df857"
      },
      "source": [
        "import time\n",
        "print(time.ctime())"
      ],
      "execution_count": null,
      "outputs": [
        {
          "output_type": "stream",
          "name": "stdout",
          "text": [
            "Tue Nov 23 09:28:41 2021\n"
          ]
        }
      ]
    },
    {
      "cell_type": "markdown",
      "metadata": {
        "id": "J9S4vHIj0tb0"
      },
      "source": [
        "Convert a list of strings to integers"
      ]
    },
    {
      "cell_type": "code",
      "metadata": {
        "colab": {
          "base_uri": "https://localhost:8080/"
        },
        "id": "NpcaN6mp0T1p",
        "outputId": "9b760f2e-34b8-4fdf-9202-3b675d1625df"
      },
      "source": [
        "list(map(int, ['1', '2', '3']))"
      ],
      "execution_count": null,
      "outputs": [
        {
          "output_type": "execute_result",
          "data": {
            "text/plain": [
              "[1, 2, 3]"
            ]
          },
          "metadata": {},
          "execution_count": 34
        }
      ]
    },
    {
      "cell_type": "markdown",
      "metadata": {
        "id": "GMJSlpP42a70"
      },
      "source": [
        " Sort dictionary with keys"
      ]
    },
    {
      "cell_type": "code",
      "metadata": {
        "colab": {
          "base_uri": "https://localhost:8080/"
        },
        "id": "Onm2XRfN2QfC",
        "outputId": "be6f3d7d-9b39-434d-e572-1b8a9fc47d52"
      },
      "source": [
        "dict1 = {'four': 4, 'one': 1, 'eight': 8}\n",
        "dict1"
      ],
      "execution_count": null,
      "outputs": [
        {
          "output_type": "execute_result",
          "data": {
            "text/plain": [
              "{'eight': 8, 'four': 4, 'one': 1}"
            ]
          },
          "metadata": {},
          "execution_count": 18
        }
      ]
    },
    {
      "cell_type": "code",
      "metadata": {
        "colab": {
          "base_uri": "https://localhost:8080/"
        },
        "id": "ajt9AKFCgpXv",
        "outputId": "e3f30eda-7777-4f33-ca87-119ce0667aab"
      },
      "source": [
        "{key:dict1[key] for key in sorted(dict1.keys())}"
      ],
      "execution_count": null,
      "outputs": [
        {
          "output_type": "execute_result",
          "data": {
            "text/plain": [
              "{'eight': 8, 'four': 4, 'one': 1}"
            ]
          },
          "metadata": {},
          "execution_count": 19
        }
      ]
    },
    {
      "cell_type": "code",
      "metadata": {
        "colab": {
          "base_uri": "https://localhost:8080/"
        },
        "id": "iPLvirO-3Hia",
        "outputId": "6021a037-73bc-46b7-ca2b-bc37c8f9c042"
      },
      "source": [
        "nums = [2,4,5,1,3]\n",
        "alphas = ['b','c','a','d','e']\n",
        "dic = dict(zip(alphas,nums))\n",
        "dic"
      ],
      "execution_count": null,
      "outputs": [
        {
          "output_type": "execute_result",
          "data": {
            "text/plain": [
              "{'a': 5, 'b': 2, 'c': 4, 'd': 1, 'e': 3}"
            ]
          },
          "metadata": {},
          "execution_count": 12
        }
      ]
    },
    {
      "cell_type": "code",
      "metadata": {
        "colab": {
          "base_uri": "https://localhost:8080/"
        },
        "id": "U13nIpz7fq8g",
        "outputId": "1bb91494-c2ad-40c4-a77f-3c41c0954e85"
      },
      "source": [
        "#will only return a list of keys from the dictionary\n",
        "sorted(dic)"
      ],
      "execution_count": null,
      "outputs": [
        {
          "output_type": "execute_result",
          "data": {
            "text/plain": [
              "['a', 'b', 'c', 'd', 'e']"
            ]
          },
          "metadata": {},
          "execution_count": 15
        }
      ]
    },
    {
      "cell_type": "code",
      "metadata": {
        "colab": {
          "base_uri": "https://localhost:8080/"
        },
        "id": "e1V2YSyXf4Kn",
        "outputId": "5a983c59-e77c-436b-e99a-9ca557690bbb"
      },
      "source": [
        "#will only return a list of values from the dictionary\n",
        "sorted(dic.values())"
      ],
      "execution_count": null,
      "outputs": [
        {
          "output_type": "execute_result",
          "data": {
            "text/plain": [
              "[1, 2, 3, 4, 5]"
            ]
          },
          "metadata": {},
          "execution_count": 16
        }
      ]
    },
    {
      "cell_type": "code",
      "metadata": {
        "colab": {
          "base_uri": "https://localhost:8080/"
        },
        "id": "FqtX6cmc5dOL",
        "outputId": "3fecac93-60e1-45c3-f3e8-35104dac2b37"
      },
      "source": [
        "# sort it by keys and return a list of tuples\n",
        "sorted(dic.items())"
      ],
      "execution_count": null,
      "outputs": [
        {
          "output_type": "execute_result",
          "data": {
            "text/plain": [
              "[('a', 5), ('b', 2), ('c', 4), ('d', 1), ('e', 3)]"
            ]
          },
          "metadata": {},
          "execution_count": 20
        }
      ]
    },
    {
      "cell_type": "code",
      "metadata": {
        "colab": {
          "base_uri": "https://localhost:8080/"
        },
        "id": "eYjlw1bt57vK",
        "outputId": "2c9b25ac-098e-4421-a506-facb1d7e4e86"
      },
      "source": [
        "# sort the key in reverse order\n",
        "sorted(dic.items(), reverse=True)"
      ],
      "execution_count": null,
      "outputs": [
        {
          "output_type": "execute_result",
          "data": {
            "text/plain": [
              "[('e', 3), ('d', 1), ('c', 4), ('b', 2), ('a', 5)]"
            ]
          },
          "metadata": {},
          "execution_count": 21
        }
      ]
    },
    {
      "cell_type": "markdown",
      "metadata": {
        "id": "U7veKi-G5sX1"
      },
      "source": [
        " Sort dictionary with values"
      ]
    },
    {
      "cell_type": "code",
      "metadata": {
        "colab": {
          "base_uri": "https://localhost:8080/"
        },
        "id": "GUJ_LvjL6HBq",
        "outputId": "c9d9f8a7-e370-48fe-d594-5569754d94bf"
      },
      "source": [
        "#use a lambda function here to tell the sorted() function which part of the element to use for comparison\n",
        "#zero indexing so that x[1] is specifying the second part of each element is a dictionary which is the value.\n",
        "sorted(dic.items(), key=lambda x:x[1])"
      ],
      "execution_count": null,
      "outputs": [
        {
          "output_type": "execute_result",
          "data": {
            "text/plain": [
              "[('d', 1), ('b', 2), ('e', 3), ('c', 4), ('a', 5)]"
            ]
          },
          "metadata": {},
          "execution_count": 22
        }
      ]
    },
    {
      "cell_type": "markdown",
      "metadata": {
        "id": "kyIHfCWP8IH-"
      },
      "source": [
        "Rotate a list"
      ]
    },
    {
      "cell_type": "code",
      "metadata": {
        "id": "uf83YJSF7i3p",
        "colab": {
          "base_uri": "https://localhost:8080/"
        },
        "outputId": "67f3ff5f-4e16-4d7b-8a4d-af8cb5b354b1"
      },
      "source": [
        "# right to left \n",
        "li = [1,2,3,4,5]\n",
        "li[2:] + li[:2]\n"
      ],
      "execution_count": null,
      "outputs": [
        {
          "output_type": "execute_result",
          "data": {
            "text/plain": [
              "[3, 4, 5, 1, 2]"
            ]
          },
          "metadata": {},
          "execution_count": 28
        }
      ]
    },
    {
      "cell_type": "code",
      "metadata": {
        "colab": {
          "base_uri": "https://localhost:8080/"
        },
        "id": "DmyZxdPcjAbh",
        "outputId": "d7cf9140-3ea6-4fef-9ed7-d22373074e70"
      },
      "source": [
        "# left to right\n",
        "li = [1,2,3,4,5]\n",
        "li[-1:] + li[:-1] "
      ],
      "execution_count": null,
      "outputs": [
        {
          "output_type": "execute_result",
          "data": {
            "text/plain": [
              "[5, 1, 2, 3, 4]"
            ]
          },
          "metadata": {},
          "execution_count": 31
        }
      ]
    },
    {
      "cell_type": "markdown",
      "metadata": {
        "id": "OT-uhs0xm9Wp"
      },
      "source": [
        "Remove numbers from a string"
      ]
    },
    {
      "cell_type": "code",
      "metadata": {
        "colab": {
          "base_uri": "https://localhost:8080/",
          "height": 35
        },
        "id": "cv049XWGRBhC",
        "outputId": "1bbdb8b8-e577-4e3f-b5a0-81d84f575e77"
      },
      "source": [
        "''.join(list(filter(lambda x: x.isalpha(), 'abc123def4fg56vcg2')))"
      ],
      "execution_count": null,
      "outputs": [
        {
          "output_type": "execute_result",
          "data": {
            "application/vnd.google.colaboratory.intrinsic+json": {
              "type": "string"
            },
            "text/plain": [
              "'abcdeffgvcg'"
            ]
          },
          "metadata": {},
          "execution_count": 23
        }
      ]
    },
    {
      "cell_type": "markdown",
      "metadata": {
        "id": "TPE3gFuBSHj7"
      },
      "source": [
        "Transpose matrix"
      ]
    },
    {
      "cell_type": "code",
      "metadata": {
        "colab": {
          "base_uri": "https://localhost:8080/"
        },
        "id": "aM_XKilQ9KEL",
        "outputId": "22e828f1-ceb9-468b-bd44-a2b320548c96"
      },
      "source": [
        "old_list = [[1, 2, 3], [3, 4, 6], [5, 6, 7]]\n",
        "old_list"
      ],
      "execution_count": null,
      "outputs": [
        {
          "output_type": "execute_result",
          "data": {
            "text/plain": [
              "[[1, 2, 3], [3, 4, 6], [5, 6, 7]]"
            ]
          },
          "metadata": {},
          "execution_count": 32
        }
      ]
    },
    {
      "cell_type": "code",
      "metadata": {
        "colab": {
          "base_uri": "https://localhost:8080/"
        },
        "id": "cGSTodDbn0mh",
        "outputId": "1dfc1744-11f0-463b-e482-3da33ca9c138"
      },
      "source": [
        "# unzip our array using * and then zip it to get the transpose\n",
        "list(list(x) for x in zip(*old_list))"
      ],
      "execution_count": null,
      "outputs": [
        {
          "output_type": "execute_result",
          "data": {
            "text/plain": [
              "[[1, 3, 5], [2, 4, 6], [3, 6, 7]]"
            ]
          },
          "metadata": {},
          "execution_count": 35
        }
      ]
    },
    {
      "cell_type": "markdown",
      "metadata": {
        "id": "3gBAArz5SMtq"
      },
      "source": [
        " Filter even numbers from a list"
      ]
    },
    {
      "cell_type": "code",
      "metadata": {
        "colab": {
          "base_uri": "https://localhost:8080/"
        },
        "id": "U9vDt9mlRL_P",
        "outputId": "0c1da06e-e46f-418b-cb81-705a6653aa1a"
      },
      "source": [
        "list(filter(lambda x: x%2 == 0, [1, 2, 3, 4, 5, 6] ))"
      ],
      "execution_count": null,
      "outputs": [
        {
          "output_type": "execute_result",
          "data": {
            "text/plain": [
              "[2, 4, 6]"
            ]
          },
          "metadata": {},
          "execution_count": 52
        }
      ]
    },
    {
      "cell_type": "markdown",
      "metadata": {
        "id": "YrSoZpDInQv5"
      },
      "source": [
        " Unpacking values"
      ]
    },
    {
      "cell_type": "code",
      "metadata": {
        "colab": {
          "base_uri": "https://localhost:8080/"
        },
        "id": "Pwwz3IrjRTXz",
        "outputId": "28dfbcd8-2a76-4a89-c772-73029d47cadd"
      },
      "source": [
        "a, *b, c = [1, 2, 3, 4, 5]\n",
        "print(a) # 1\n",
        "print(b) # [2, 3, 4]\n",
        "print(c) # 5"
      ],
      "execution_count": null,
      "outputs": [
        {
          "output_type": "stream",
          "name": "stdout",
          "text": [
            "1\n",
            "[2, 3, 4]\n",
            "5\n"
          ]
        }
      ]
    },
    {
      "cell_type": "code",
      "metadata": {
        "id": "L8p1LE2-eE7F"
      },
      "source": [
        "import sys\n"
      ],
      "execution_count": null,
      "outputs": []
    },
    {
      "cell_type": "code",
      "metadata": {
        "colab": {
          "base_uri": "https://localhost:8080/"
        },
        "id": "xACpcemneOfW",
        "outputId": "115c8a71-b6b2-4355-bb82-85b08a5deb00"
      },
      "source": [
        "a = 2\n",
        "sys.getsizeof(a)"
      ],
      "execution_count": null,
      "outputs": [
        {
          "output_type": "execute_result",
          "data": {
            "text/plain": [
              "28"
            ]
          },
          "metadata": {},
          "execution_count": 59
        }
      ]
    },
    {
      "cell_type": "code",
      "metadata": {
        "colab": {
          "base_uri": "https://localhost:8080/"
        },
        "id": "RLjeuqMueSmW",
        "outputId": "ec577080-ce5d-4fb8-9bc3-8a068504fa4d"
      },
      "source": [
        "sys.getsizeof(list3)"
      ],
      "execution_count": null,
      "outputs": [
        {
          "output_type": "execute_result",
          "data": {
            "text/plain": [
              "104"
            ]
          },
          "metadata": {},
          "execution_count": 62
        }
      ]
    },
    {
      "cell_type": "code",
      "metadata": {
        "id": "Tkw4MyFtegs2"
      },
      "source": [
        "g = [1,'b',3]"
      ],
      "execution_count": null,
      "outputs": []
    },
    {
      "cell_type": "code",
      "metadata": {
        "colab": {
          "base_uri": "https://localhost:8080/"
        },
        "id": "pVMtPpwCkaEv",
        "outputId": "771b930b-00da-44b4-b3d5-0e29aaa4ff68"
      },
      "source": [
        "(lambda g : print(g))(g)"
      ],
      "execution_count": null,
      "outputs": [
        {
          "output_type": "stream",
          "name": "stdout",
          "text": [
            "[1, 'b', 3]\n"
          ]
        }
      ]
    },
    {
      "cell_type": "code",
      "metadata": {
        "colab": {
          "base_uri": "https://localhost:8080/"
        },
        "id": "U-xnJ9EWke63",
        "outputId": "c363b7e5-f3f0-4187-aca9-c4d21df9013b"
      },
      "source": [
        "type(g)"
      ],
      "execution_count": null,
      "outputs": [
        {
          "output_type": "execute_result",
          "data": {
            "text/plain": [
              "list"
            ]
          },
          "metadata": {},
          "execution_count": 80
        }
      ]
    },
    {
      "cell_type": "code",
      "metadata": {
        "colab": {
          "base_uri": "https://localhost:8080/"
        },
        "id": "UDGeAGnTlos0",
        "outputId": "a2ced233-8352-439d-bc66-b80365ffde67"
      },
      "source": [
        "type(l)"
      ],
      "execution_count": null,
      "outputs": [
        {
          "output_type": "execute_result",
          "data": {
            "text/plain": [
              "NoneType"
            ]
          },
          "metadata": {},
          "execution_count": 81
        }
      ]
    },
    {
      "cell_type": "code",
      "metadata": {
        "colab": {
          "base_uri": "https://localhost:8080/"
        },
        "id": "1Dd2Pu0EkzIk",
        "outputId": "0fb0d294-ae5d-4976-96ae-1695bb4792c8"
      },
      "source": [
        "(filter(lambda x: x%2 == 0, [1, 2, 3, 4, 5, 6]))"
      ],
      "execution_count": null,
      "outputs": [
        {
          "output_type": "execute_result",
          "data": {
            "text/plain": [
              "<filter at 0x7f9cb6adc2d0>"
            ]
          },
          "metadata": {},
          "execution_count": 118
        }
      ]
    },
    {
      "cell_type": "code",
      "metadata": {
        "colab": {
          "base_uri": "https://localhost:8080/"
        },
        "id": "r2RqL60Elr-e",
        "outputId": "d472606e-0bdb-44e9-992f-958dea274c07"
      },
      "source": [
        " range(1, 11)"
      ],
      "execution_count": null,
      "outputs": [
        {
          "output_type": "execute_result",
          "data": {
            "text/plain": [
              "range(1, 11)"
            ]
          },
          "metadata": {},
          "execution_count": 90
        }
      ]
    },
    {
      "cell_type": "code",
      "metadata": {
        "colab": {
          "base_uri": "https://localhost:8080/"
        },
        "id": "xQD9Y6vDn21I",
        "outputId": "78b6ea8b-c1f0-40e3-94fd-3e77bc0f0a19"
      },
      "source": [
        "[*a] = [1, 2, 3, 4, 5, 6]\n",
        "print(a)"
      ],
      "execution_count": null,
      "outputs": [
        {
          "output_type": "stream",
          "name": "stdout",
          "text": [
            "[1, 2, 3, 4, 5, 6]\n"
          ]
        }
      ]
    },
    {
      "cell_type": "code",
      "metadata": {
        "colab": {
          "base_uri": "https://localhost:8080/"
        },
        "id": "hbCy9KS5q-Rp",
        "outputId": "06b64f5a-e759-429a-963b-f009e6fe70de"
      },
      "source": [
        "*a, = range(5)\n",
        "print(a)"
      ],
      "execution_count": null,
      "outputs": [
        {
          "output_type": "stream",
          "name": "stdout",
          "text": [
            "[0, 1, 2, 3, 4]\n"
          ]
        }
      ]
    },
    {
      "cell_type": "code",
      "metadata": {
        "colab": {
          "base_uri": "https://localhost:8080/"
        },
        "id": "4oMErdztt77p",
        "outputId": "b926abc2-d43e-4191-efb1-e44ac253abae"
      },
      "source": [
        "d = {'a':2, 'b':4, 'c':10}\n",
        "d"
      ],
      "execution_count": null,
      "outputs": [
        {
          "output_type": "execute_result",
          "data": {
            "text/plain": [
              "{'a': 2, 'b': 4, 'c': 10}"
            ]
          },
          "metadata": {},
          "execution_count": 115
        }
      ]
    },
    {
      "cell_type": "code",
      "metadata": {
        "colab": {
          "base_uri": "https://localhost:8080/",
          "height": 130
        },
        "id": "dNRYscmAvDfR",
        "outputId": "b617c43c-3ed4-40cd-e475-975bd106b5ac"
      },
      "source": [
        ""
      ],
      "execution_count": null,
      "outputs": [
        {
          "output_type": "error",
          "ename": "SyntaxError",
          "evalue": "ignored",
          "traceback": [
            "\u001b[0;36m  File \u001b[0;32m\"<ipython-input-117-901b88e959e9>\"\u001b[0;36m, line \u001b[0;32m1\u001b[0m\n\u001b[0;31m    (*d)\u001b[0m\n\u001b[0m    ^\u001b[0m\n\u001b[0;31mSyntaxError\u001b[0m\u001b[0;31m:\u001b[0m can't use starred expression here\n"
          ]
        }
      ]
    },
    {
      "cell_type": "code",
      "metadata": {
        "id": "Mylytm04vPNR"
      },
      "source": [
        ""
      ],
      "execution_count": null,
      "outputs": []
    }
  ]
}